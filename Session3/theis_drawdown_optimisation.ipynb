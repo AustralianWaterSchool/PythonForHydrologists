{
 "cells": [
  {
   "cell_type": "markdown",
   "metadata": {},
   "source": [
    "# Interpreting aquifer tests"
   ]
  },
  {
   "cell_type": "code",
   "execution_count": 25,
   "metadata": {},
   "outputs": [],
   "source": [
    "import lmfit as lm \n",
    "import matplotlib.pyplot as plt\n",
    "import numpy as np\n",
    "import pandas as pd\n",
    "\n",
    "%matplotlib inline\n",
    "\n",
    "from scipy.special import exp1\n",
    "\n",
    "def theis(r, t, S, T, Q=100):\n",
    "    u = S * r ** 2 / (4.0 * T * t)\n",
    "    s = Q / (4 * np.pi * T) * exp1(u)\n",
    "    return s"
   ]
  },
  {
   "cell_type": "code",
   "execution_count": 26,
   "metadata": {},
   "outputs": [
    {
     "data": {
      "text/html": [
       "<div>\n",
       "<style scoped>\n",
       "    .dataframe tbody tr th:only-of-type {\n",
       "        vertical-align: middle;\n",
       "    }\n",
       "\n",
       "    .dataframe tbody tr th {\n",
       "        vertical-align: top;\n",
       "    }\n",
       "\n",
       "    .dataframe thead th {\n",
       "        text-align: right;\n",
       "    }\n",
       "</style>\n",
       "<table border=\"1\" class=\"dataframe\">\n",
       "  <thead>\n",
       "    <tr style=\"text-align: right;\">\n",
       "      <th></th>\n",
       "      <th>t</th>\n",
       "      <th>s</th>\n",
       "    </tr>\n",
       "  </thead>\n",
       "  <tbody>\n",
       "    <tr>\n",
       "      <th>17</th>\n",
       "      <td>200</td>\n",
       "      <td>2.59080</td>\n",
       "    </tr>\n",
       "    <tr>\n",
       "      <th>18</th>\n",
       "      <td>260</td>\n",
       "      <td>2.80416</td>\n",
       "    </tr>\n",
       "    <tr>\n",
       "      <th>19</th>\n",
       "      <td>320</td>\n",
       "      <td>2.95656</td>\n",
       "    </tr>\n",
       "    <tr>\n",
       "      <th>20</th>\n",
       "      <td>380</td>\n",
       "      <td>3.10896</td>\n",
       "    </tr>\n",
       "    <tr>\n",
       "      <th>21</th>\n",
       "      <td>500</td>\n",
       "      <td>3.32232</td>\n",
       "    </tr>\n",
       "  </tbody>\n",
       "</table>\n",
       "</div>"
      ],
      "text/plain": [
       "      t        s\n",
       "17  200  2.59080\n",
       "18  260  2.80416\n",
       "19  320  2.95656\n",
       "20  380  3.10896\n",
       "21  500  3.32232"
      ]
     },
     "execution_count": 26,
     "metadata": {},
     "output_type": "execute_result"
    }
   ],
   "source": [
    "xldata = pd.read_excel(\"walton_1962.xlsx\", skiprows=[0,1,2,3,4,6], usecols=\"A,B\")\n",
    "xldata.tail()"
   ]
  },
  {
   "cell_type": "code",
   "execution_count": 27,
   "metadata": {},
   "outputs": [],
   "source": [
    "def residual(p, data, r):\n",
    "    p_vals = p.valuesdict()\n",
    "\n",
    "    times = data['t'].values\n",
    "    s_meas = data['s'].values\n",
    "    \n",
    "    rv = (s_meas - theis(r, times, p_vals['S'], p_vals['T'], p_vals['Q']))\n",
    "        \n",
    "    return rv\n"
   ]
  },
  {
   "cell_type": "code",
   "execution_count": 28,
   "metadata": {},
   "outputs": [
    {
     "name": "stdout",
     "output_type": "stream",
     "text": [
      "[[Fit Statistics]]\n",
      "    # fitting method   = leastsq\n",
      "    # function evals   = 19\n",
      "    # data points      = 22\n",
      "    # variables        = 2\n",
      "    chi-square         = 0.01692867\n",
      "    reduced chi-square = 8.4643e-04\n",
      "    Akaike info crit   = -153.735356\n",
      "    Bayesian info crit = -151.553271\n",
      "[[Variables]]\n",
      "    S:  2.0948e-05 +/- 4.0282e-07 (1.92%) (init = 0.0001)\n",
      "    T:  0.08545715 +/- 8.3719e-04 (0.98%) (init = 0.01)\n",
      "    Q:  0.8327902 (fixed)\n",
      "[[Correlations]] (unreported correlations are < 0.100)\n",
      "    C(S, T) = -0.882\n"
     ]
    },
    {
     "data": {
      "image/png": "[encoded data removed]",
      "text/plain": [
       "<Figure size 432x288 with 1 Axes>"
      ]
     },
     "metadata": {
      "needs_background": "light"
     },
     "output_type": "display_data"
    }
   ],
   "source": [
    "Q = 220 # gpm\n",
    "Q *= 0.00378541 # m3\n",
    "r = 824 # ft\n",
    "r *= 0.3048\n",
    "\n",
    "p = lm.Parameters()\n",
    "p.add('S', value = 1e-4, min = 0., vary = True)\n",
    "p.add('T', value = 1e-2, min = 0., vary = True)\n",
    "p.add('Q', value = Q, vary = False)\n",
    "\n",
    "p_out = lm.minimize(residual, p, args=(xldata, r))\n",
    "                    \n",
    "print(lm.fit_report(p_out))\n",
    "\n",
    "S = p_out.params['S'].value\n",
    "T = p_out.params['T'].value\n",
    "\n",
    "fig, ax = plt.subplots()\n",
    "ax.plot(xldata['t'], xldata['s'], 'o', mfc='w', mec='C0')\n",
    "t = np.linspace(xldata['t'].min(), xldata['t'].max())\n",
    "ax.plot(t, theis(r, t, S, T, Q))\n",
    "\n",
    "ax.set_xlabel(\"Time (min)\")\n",
    "ax.set_ylabel(\"Drawdown (m)\")\n",
    "#ax.set_xlim(0, 24)\n",
    "#ax.set_ylim(0, 0.65)\n",
    "ax.grid(True, ls=':')\n",
    "\n",
    "plt.tight_layout()\n"
   ]
  },
  {
   "cell_type": "code",
   "execution_count": null,
   "metadata": {},
   "outputs": [],
   "source": []
  }
 ],
 "metadata": {
  "kernelspec": {
   "display_name": "Python 3",
   "language": "python",
   "name": "python3"
  },
  "language_info": {
   "codemirror_mode": {
    "name": "ipython",
    "version": 3
   },
   "file_extension": ".py",
   "mimetype": "text/x-python",
   "name": "python",
   "nbconvert_exporter": "python",
   "pygments_lexer": "ipython3",
   "version": "3.8.5"
  },
  "latex_envs": {
   "LaTeX_envs_menu_present": true,
   "autoclose": false,
   "autocomplete": true,
   "bibliofile": "biblio.bib",
   "cite_by": "apalike",
   "current_citInitial": 1,
   "eqLabelWithNumbers": true,
   "eqNumInitial": 1,
   "hotkeys": {
    "equation": "Ctrl-E",
    "itemize": "Ctrl-I"
   },
   "labels_anchors": false,
   "latex_user_defs": false,
   "report_style_numbering": false,
   "user_envs_cfg": false
  },
  "varInspector": {
   "cols": {
    "lenName": 16,
    "lenType": 16,
    "lenVar": 40
   },
   "kernels_config": {
    "python": {
     "delete_cmd_postfix": "",
     "delete_cmd_prefix": "del ",
     "library": "var_list.py",
     "varRefreshCmd": "print(var_dic_list())"
    },
    "r": {
     "delete_cmd_postfix": ") ",
     "delete_cmd_prefix": "rm(",
     "library": "var_list.r",
     "varRefreshCmd": "cat(var_dic_list()) "
    }
   },
   "types_to_exclude": [
    "module",
    "function",
    "builtin_function_or_method",
    "instance",
    "_Feature"
   ],
   "window_display": false
  }
 },
 "nbformat": 4,
 "nbformat_minor": 4
}
