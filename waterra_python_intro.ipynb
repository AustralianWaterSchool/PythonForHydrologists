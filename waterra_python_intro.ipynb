{
 "cells": [
  {
   "cell_type": "markdown",
   "metadata": {},
   "source": [
    "# Python basics\n",
    "\n",
    "This notebook provides an introduction to Python and is aimed at novice Python users. Course participants already skilled at programming in Python will probably choose to skip these exercises, although some parts might be useful as a refresher. \n",
    "\n",
    "Jupyter Notebooks (or simply 'notebook') provide a way to execute Python code in a web browser and will be used throughout this course. A notebook is subdivided into cells, which either have text or code. The code cells can easily be recognized as they are preceded by `In [ ]:` or `In [n]:` where `n` is a counter. To edit the code, select the cell by positioning your cursor in one of the code cells either by clicking the left mouse button or by navigating using the up and down arrow keys. Executing the code cell can be doen by clicking the Run button in the top menu of the notebook or, much easier, by holding the [shift] key and hitting [enter]. The output, preceded by `Out [n]:` (where n is a number), then appears below the code cell."
   ]
  },
  {
   "cell_type": "markdown",
   "metadata": {},
   "source": [
    "### Arithmetic\n",
    "\n",
    "Because Python is an interpreted language, one of its uses is as a basic calculator. For example to compute 6 * 2 (remember, to execute this code, position the cursor in the code cell below and hit [shift][enter])"
   ]
  },
  {
   "cell_type": "code",
   "execution_count": 38,
   "metadata": {},
   "outputs": [
    {
     "data": {
      "text/plain": [
       "12"
      ]
     },
     "execution_count": 38,
     "metadata": {},
     "output_type": "execute_result"
    }
   ],
   "source": [
    "6 * 2 # Place the cursor here and hit [shift][enter]"
   ]
  },
  {
   "cell_type": "markdown",
   "metadata": {},
   "source": [
    "The spaces are added to make the code more readable. `6*2` would work just as well, but it is not as easy to read and is therefore considered not to be proper style. The example above also shows how single-line comments can be included by typing text behind a `#` sign. Python will ignore any code typed on this line after the comment sign.\n",
    "\n",
    "Exponentiation is performed by using **"
   ]
  },
  {
   "cell_type": "code",
   "execution_count": 11,
   "metadata": {},
   "outputs": [
    {
     "data": {
      "text/plain": [
       "64"
      ]
     },
     "execution_count": 11,
     "metadata": {},
     "output_type": "execute_result"
    }
   ],
   "source": [
    "2 ** 6"
   ]
  },
  {
   "cell_type": "markdown",
   "metadata": {},
   "source": [
    "Values may be stored in variables, which can then be used to perform arithmetic operations just like numbers"
   ]
  },
  {
   "cell_type": "code",
   "execution_count": 12,
   "metadata": {},
   "outputs": [
    {
     "data": {
      "text/plain": [
       "12"
      ]
     },
     "execution_count": 12,
     "metadata": {},
     "output_type": "execute_result"
    }
   ],
   "source": [
    "a = 6\n",
    "b = 2\n",
    "a * b "
   ]
  },
  {
   "cell_type": "markdown",
   "metadata": {},
   "source": [
    "Python is case sensitive, so a variable with the name `a` is not the same as `A`\n",
    "\n",
    "### Lists and Dictionaries\n",
    "\n",
    "A `list` is a Python data structure that contains a collection of data that can be of any type. It is defined by typing the elements of the list separated by commas and enclosed by square brackets. The following list contains a string, integer and a float"
   ]
  },
  {
   "cell_type": "code",
   "execution_count": 39,
   "metadata": {},
   "outputs": [
    {
     "name": "stdout",
     "output_type": "stream",
     "text": [
      "['Darcy', 0, 2.3]\n"
     ]
    }
   ],
   "source": [
    "alist = ['Darcy', 0, 2.3]\n",
    "print(alist)"
   ]
  },
  {
   "cell_type": "markdown",
   "metadata": {},
   "source": [
    "Individual items in a list can be accessed by specifying their indices in the list between square brackets. Selecting elements like this is called *slicing*. Because Python always starts counting from 0, the first element in the list has index number 0 (this takes a little getting used to!). Multiple items can be selected by specifying the first and last index seperated by a colon"
   ]
  },
  {
   "cell_type": "code",
   "execution_count": 14,
   "metadata": {},
   "outputs": [
    {
     "name": "stdout",
     "output_type": "stream",
     "text": [
      "Darcy\n",
      "['Darcy', 0]\n"
     ]
    }
   ],
   "source": [
    "print(alist[0])\n",
    "print(alist[0:2]) # Returns items 0 and 1, not 2!"
   ]
  },
  {
   "cell_type": "markdown",
   "metadata": {},
   "source": [
    "Note that the second line only returns items 0 and 1, not 2. This is because of the way counting works in Python: It starts at zero and then stops *before* the last number is reached. \n",
    "\n",
    "The first item in `alist` can be changed in the following way"
   ]
  },
  {
   "cell_type": "code",
   "execution_count": 40,
   "metadata": {},
   "outputs": [
    {
     "name": "stdout",
     "output_type": "stream",
     "text": [
      "['Dupuit', 0, 2.3]\n"
     ]
    }
   ],
   "source": [
    "alist[0] = 'Dupuit'\n",
    "print(alist)"
   ]
  },
  {
   "cell_type": "markdown",
   "metadata": {},
   "source": [
    " The `+` operator can be used to combine two lists"
   ]
  },
  {
   "cell_type": "code",
   "execution_count": 43,
   "metadata": {},
   "outputs": [
    {
     "name": "stdout",
     "output_type": "stream",
     "text": [
      "(1, 2, 3, 5, 10, 15)\n"
     ]
    }
   ],
   "source": [
    "a = (1, 2, 3)\n",
    "b = (5, 10, 15)\n",
    "print(a + b)"
   ]
  },
  {
   "cell_type": "markdown",
   "metadata": {},
   "source": [
    "The use of the `+` sign with lists does not imply an arithmetic operation! If the intent is to add the numbers, the lists must first be converted to `arrays`, which will be discussed below.\n",
    "\n",
    "A *dictionary* is another Python data type that stores a set of variables. It is defined in the following way"
   ]
  },
  {
   "cell_type": "code",
   "execution_count": 44,
   "metadata": {},
   "outputs": [],
   "source": [
    "adict = {'k': 10, 'S': 1e-5}"
   ]
  },
  {
   "cell_type": "markdown",
   "metadata": {},
   "source": [
    "A big advantage of dictionaries is that individual values are accesed by using the name of a *key*, rather than a number"
   ]
  },
  {
   "cell_type": "code",
   "execution_count": 45,
   "metadata": {},
   "outputs": [
    {
     "name": "stdout",
     "output_type": "stream",
     "text": [
      "10\n"
     ]
    }
   ],
   "source": [
    "print(adict['k'])"
   ]
  },
  {
   "cell_type": "markdown",
   "metadata": {},
   "source": [
    "### Loops and conditional statements\n",
    "\n",
    "In Python, a `for` loop, i.e. a set of programming commands that is executed several times, is based on a `list`, or another iterable datatype. The code will iterate over all the items in the list, starting with the first. The number of steps of the `for` loop thus depends on the number of items in the list. \n",
    "\n",
    "There are a number of syntax rules for defining a `for` loop. First, a colon (`:`) must always terminate the line with the `for` keyword, and second, the lines of code that must be executed during each step of the loop must all be indented. This is illustrated in the following example, in which the variable `al` takes on the value of each element in the list `alist` during the for loop. The second, indented line tells Python to print the value of `a1` for each step of the loop"
   ]
  },
  {
   "cell_type": "code",
   "execution_count": 46,
   "metadata": {},
   "outputs": [
    {
     "name": "stdout",
     "output_type": "stream",
     "text": [
      "Dupuit\n",
      "0\n",
      "2.3\n",
      "12\n"
     ]
    }
   ],
   "source": [
    "for al in alist:\n",
    "    print(al)"
   ]
  },
  {
   "cell_type": "markdown",
   "metadata": {},
   "source": [
    "There is no explicit statement that marks the end of the code statements that should be executed during the loop. Instead, Python's interpreter infers this based on the indentation. Proper indentation is thus absolutely essential as it controls the way the code behaves. This helps tremendously in creating neat, readable scripts. The length of the indentation is arbitrary, as long as it remains the same (the default is four spaces). \n",
    "\n",
    "Looping over the elements of a list is a very 'pythonic' way of doing things. Programmers using other languages may be used to loops that get executed a certain number of times. This is possible too and is typically done using the `range` class. In the following example `range(4)` creates 4 numbers, from 0 up to (but not including, because of the way Python counts) 4"
   ]
  },
  {
   "cell_type": "code",
   "execution_count": 47,
   "metadata": {},
   "outputs": [
    {
     "name": "stdout",
     "output_type": "stream",
     "text": [
      "Step 0\n",
      "Step 1\n",
      "Step 2\n",
      "Step 3\n"
     ]
    }
   ],
   "source": [
    "for i in range(4):\n",
    "    print('Step', i)"
   ]
  },
  {
   "cell_type": "markdown",
   "metadata": {},
   "source": [
    "where `range` creates a sequence with numbers to iterate over."
   ]
  },
  {
   "cell_type": "markdown",
   "metadata": {},
   "source": [
    "Conditional statements (also called `if` statements) can be used to control the flow of the program depending on whether or not certain conditions are met. Just like with the `for` loop, a colon must be typed at the end of the line starting with `if`, and the lines that must be executed if the evaluated condition is true must be indented. There is no specific command to end the `if` statement, as with `for` loops it is inferred from the indentation."
   ]
  },
  {
   "cell_type": "code",
   "execution_count": 48,
   "metadata": {},
   "outputs": [
    {
     "name": "stdout",
     "output_type": "stream",
     "text": [
      "It is freezing!\n"
     ]
    }
   ],
   "source": [
    "t = -1\n",
    "if (t < 0):\n",
    "    print (\"It is freezing!\")"
   ]
  },
  {
   "cell_type": "markdown",
   "metadata": {},
   "source": [
    "### Arrays and NumPy\n",
    "\n",
    "The core of Python includes the basic features of the language. All other features are included in separate *packages* (called libraries or toolboxes in other programming languages). The package for creating and manipulating arrays is called `numpy`. The `numpy` package also includes a set of very useful functions, including basic mathematical functions (`cos`, `exp`, `log`, `sum`, etc.).\n",
    "\n",
    "Before a package can be used, it needs to be imported. The following line imports the `numpy` package and make sure it is recognized by the name `np`."
   ]
  },
  {
   "cell_type": "code",
   "execution_count": 49,
   "metadata": {},
   "outputs": [],
   "source": [
    "import numpy as np"
   ]
  },
  {
   "cell_type": "markdown",
   "metadata": {},
   "source": [
    "All functions of the `numpy` package can now be called as `np.function_name()`. For example, a `list` can be converted to a NumPy `array` with the `np.array()` command. "
   ]
  },
  {
   "cell_type": "code",
   "execution_count": 50,
   "metadata": {},
   "outputs": [],
   "source": [
    "a = np.array([1, 2, 3, 4])"
   ]
  },
  {
   "cell_type": "markdown",
   "metadata": {},
   "source": [
    "A two-dimensional array can be created by entering a list of rows, where each row is again a list that contains the column values for that row"
   ]
  },
  {
   "cell_type": "code",
   "execution_count": 51,
   "metadata": {},
   "outputs": [
    {
     "name": "stdout",
     "output_type": "stream",
     "text": [
      "[[ 0  1  2  3]\n",
      " [ 4  5  6  7]\n",
      " [ 8  9 10 11]]\n"
     ]
    }
   ],
   "source": [
    "A = np.array([[0, 1, 2, 3], [4, 5, 6, 7], [8, 9, 10, 11]])\n",
    "print(A)"
   ]
  },
  {
   "cell_type": "markdown",
   "metadata": {},
   "source": [
    "Functions that work for individual numbers can also be used on arrays, for example `numpy`'s `sqrt` function"
   ]
  },
  {
   "cell_type": "code",
   "execution_count": 52,
   "metadata": {},
   "outputs": [
    {
     "name": "stdout",
     "output_type": "stream",
     "text": [
      "sqrt(a) gives: [1.         1.41421356 1.73205081 2.        ]\n"
     ]
    }
   ],
   "source": [
    "print('sqrt(a) gives:', np.sqrt(a))"
   ]
  },
  {
   "cell_type": "markdown",
   "metadata": {},
   "source": [
    "Arithmetic operators can also be be used with arrays. The following code defines an array `b` and multiplies the elements of the arrays `a` and `b` element by element"
   ]
  },
  {
   "cell_type": "code",
   "execution_count": 53,
   "metadata": {},
   "outputs": [
    {
     "name": "stdout",
     "output_type": "stream",
     "text": [
      "a * b gives: [ 2  4  9 12]\n"
     ]
    }
   ],
   "source": [
    "b = np.array([2, 2, 3, 3])\n",
    "print('a * b gives:', a * b)"
   ]
  },
  {
   "cell_type": "markdown",
   "metadata": {},
   "source": [
    "Those working with matrices might have expected a different outcome: The dot product. The dot product of arrays `a` and `b` of length `N` (i.e., $\\sum_{n=1}^N a_nb_n$, see Chapter/Appendix ###) is obtained by using the `@` operator"
   ]
  },
  {
   "cell_type": "code",
   "execution_count": 54,
   "metadata": {},
   "outputs": [
    {
     "data": {
      "text/plain": [
       "27"
      ]
     },
     "execution_count": 54,
     "metadata": {},
     "output_type": "execute_result"
    }
   ],
   "source": [
    "a @ b # Or, alternatively: np.dot(a,b)"
   ]
  },
  {
   "cell_type": "markdown",
   "metadata": {},
   "source": [
    "Just like for a `list` the individual elements of an array can be accessed by indexing using square brackets (always remembering that the first index has number 0!). The following code examples show some of the various array slicing options"
   ]
  },
  {
   "cell_type": "code",
   "execution_count": 55,
   "metadata": {},
   "outputs": [
    {
     "name": "stdout",
     "output_type": "stream",
     "text": [
      "[ 7  8  9 10 11 12 13 14 15 16]\n",
      "7\n",
      "[ 7  8  9 10 11]\n",
      "[ 7  8  9 10 11]\n",
      "[12 13 14 15 16]\n",
      "[10 11 12 13]\n",
      "[ 9 11 13 15]\n"
     ]
    }
   ],
   "source": [
    "x = np.arange(7, 17) # Similar to the range function used before, instead this one creates a numpy array\n",
    "print(x)\n",
    "print(x[0])\n",
    "print(x[0:5])\n",
    "print(x[:5]) # result is the same as for the previous line\n",
    "print(x[-5:]) # returns the last 5 values\n",
    "print(x[3:7])\n",
    "print(x[2:9:2]) # step is 2"
   ]
  },
  {
   "cell_type": "markdown",
   "metadata": {},
   "source": [
    "Parts or values of an array may also be selected based on conditions. This is called *advanced slicing*. For example"
   ]
  },
  {
   "cell_type": "code",
   "execution_count": 56,
   "metadata": {},
   "outputs": [
    {
     "name": "stdout",
     "output_type": "stream",
     "text": [
      "[ True  True  True False False False False False False False]\n"
     ]
    }
   ],
   "source": [
    "print(x < 10)"
   ]
  },
  {
   "cell_type": "markdown",
   "metadata": {},
   "source": [
    "More advanced code examples will be introduced during the course"
   ]
  },
  {
   "cell_type": "code",
   "execution_count": null,
   "metadata": {},
   "outputs": [],
   "source": []
  }
 ],
 "metadata": {
  "celltoolbar": "Tags",
  "kernelspec": {
   "display_name": "Python 3",
   "language": "python",
   "name": "python3"
  },
  "language_info": {
   "codemirror_mode": {
    "name": "ipython",
    "version": 3
   },
   "file_extension": ".py",
   "mimetype": "text/x-python",
   "name": "python",
   "nbconvert_exporter": "python",
   "pygments_lexer": "ipython3",
   "version": "3.8.5"
  },
  "latex_envs": {
   "LaTeX_envs_menu_present": true,
   "autoclose": false,
   "autocomplete": true,
   "bibliofile": "biblio.bib",
   "cite_by": "apalike",
   "current_citInitial": 1,
   "eqLabelWithNumbers": true,
   "eqNumInitial": 1,
   "hotkeys": {
    "equation": "Ctrl-E",
    "itemize": "Ctrl-I"
   },
   "labels_anchors": false,
   "latex_user_defs": false,
   "report_style_numbering": false,
   "user_envs_cfg": false
  },
  "name": "_merged_merged_merged"
 },
 "nbformat": 4,
 "nbformat_minor": 1
}
